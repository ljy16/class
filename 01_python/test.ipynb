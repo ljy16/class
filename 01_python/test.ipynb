{
 "cells": [
  {
   "cell_type": "code",
   "execution_count": null,
   "id": "b6061bcd",
   "metadata": {
    "scrolled": true
   },
   "outputs": [],
   "source": [
    "print('hello everybody')"
   ]
  },
  {
   "cell_type": "code",
   "execution_count": null,
   "id": "7c26c5d9",
   "metadata": {},
   "outputs": [],
   "source": [
    "print('next')"
   ]
  },
  {
   "cell_type": "code",
   "execution_count": null,
   "id": "840f2a1b",
   "metadata": {},
   "outputs": [],
   "source": []
  },
  {
   "cell_type": "code",
   "execution_count": null,
   "id": "f288360a",
   "metadata": {},
   "outputs": [],
   "source": [
    "print('asdf')"
   ]
  },
  {
   "cell_type": "markdown",
   "id": "9cd3f4c5",
   "metadata": {},
   "source": [
    "# h1\n",
    "- 이건\n",
    "- 마크\n",
    "- 다운"
   ]
  },
  {
   "cell_type": "code",
   "execution_count": null,
   "id": "482d4852",
   "metadata": {},
   "outputs": [],
   "source": []
  }
 ],
 "metadata": {
  "kernelspec": {
   "display_name": "Python 3 (ipykernel)",
   "language": "python",
   "name": "python3"
  },
  "language_info": {
   "codemirror_mode": {
    "name": "ipython",
    "version": 3
   },
   "file_extension": ".py",
   "mimetype": "text/x-python",
   "name": "python",
   "nbconvert_exporter": "python",
   "pygments_lexer": "ipython3",
   "version": "3.10.9"
  }
 },
 "nbformat": 4,
 "nbformat_minor": 5
}
