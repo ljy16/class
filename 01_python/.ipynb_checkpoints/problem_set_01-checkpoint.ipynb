{
 "cells": [
  {
   "cell_type": "markdown",
   "metadata": {},
   "source": [
    "## 모음 제거하기\n",
    "\n",
    "> 다음 문장의 모음을 제거한 새로운 문자열을 출력하세요.\n",
    "\n",
    "---\n",
    "\n",
    "\n",
    "**[입력 예시]**\n",
    "\n",
    "`'Life is too short, you need python'`\n",
    "\n",
    "**[출력 예시]**\n",
    "\n",
    "`Lf s t shrt, y nd pythn`"
   ]
  },
  {
   "cell_type": "code",
   "execution_count": 10,
   "metadata": {},
   "outputs": [],
   "source": [
    "my_str = 'Life is too short, you need python'\n",
    "\n",
    "# 아래에 코드를 작성하세요."
   ]
  },
  {
   "cell_type": "code",
   "execution_count": 12,
   "metadata": {},
   "outputs": [
    {
     "name": "stdout",
     "output_type": "stream",
     "text": [
      "Lf s t shrt, y nd pythn\n"
     ]
    },
    {
     "data": {
      "text/plain": [
       "\"\\n# 하나하나의 글자가 'aeiou' 중에 포함되어 있지 않다면 (자음이라면)\\n    # 새로운 str에 쌓아나간다.\\n    new_str += char\\n\""
      ]
     },
     "execution_count": 12,
     "metadata": {},
     "output_type": "execute_result"
    }
   ],
   "source": [
    "# my_str의 각 문자열을 돌면서\n",
    "new_str = ''\n",
    "for char in my_str:\n",
    "  \n",
    "    if char not in 'aeiou':\n",
    "        new_str += char \n",
    "print(new_str)\n",
    "     \n",
    "# 하나하나의 글자가 'aeiou' 중에 포함되어 있지 않다면 (자음이라면)\n",
    "# 새로운 str에 쌓아나간다. \n",
    "\n",
    "\n",
    "\"\"\"\n",
    "# 하나하나의 글자가 'aeiou' 중에 포함되어 있지 않다면 (자음이라면)\n",
    "    # 새로운 str에 쌓아나간다.\n",
    "    new_str += char\n",
    "\"\"\""
   ]
  },
  {
   "cell_type": "markdown",
   "metadata": {},
   "source": [
    "## 과일 개수 골라내기\n",
    "\n",
    "> 내 장바구니에 과일이 몇 개인지, 과일이 아닌 것은 몇개인지 출력하세요.\n",
    ">\n",
    "> 장바구니에 담긴 과일과, 과일 판별 리스트는 다음과 같습니다.\n",
    "> ```python\n",
    "> basket_items = {'apples': 4, 'oranges': 19, 'kites': 3, 'sandwiches': 8}\n",
    "> fruits = ['apples', 'oranges', 'pears', 'peaches', 'grapes', 'bananas']\n",
    "> ```\n",
    "\n",
    "---\n",
    "\n",
    "**[출력 예시]**\n",
    "\n",
    "과일은 23개이고, 11개는 과일이 아닙니다."
   ]
  },
  {
   "cell_type": "code",
   "execution_count": 5,
   "metadata": {},
   "outputs": [],
   "source": [
    "basket_items = {'apples': 4, 'oranges': 19, 'kites': 3, 'sandwiches': 8}\n",
    "fruits = ['apples', 'oranges', 'pears', 'peaches', 'grapes', 'bananas']\n",
    "\n",
    "# basket_items['apples'] # -> key값 꺼내는 코드\n",
    "\n",
    "# 아래에 코드를 작성하세요."
   ]
  },
  {
   "cell_type": "code",
   "execution_count": 8,
   "metadata": {},
   "outputs": [
    {
     "name": "stdout",
     "output_type": "stream",
     "text": [
      "11 23\n"
     ]
    }
   ],
   "source": [
    "# 과일 개수 저장할 변수 / 비과일 개수 저장할 변수가 따로 필요\n",
    "fruit_count = 0\n",
    "non_fruit_count = 0\n",
    "\n",
    "# basket_itmes 안에 key-value 들을 돌면서\n",
    "for key in basket_items:\n",
    "    # 만약 key가 fruits 중에 하나라면,\n",
    "    if key in fruits:\n",
    "        # fruit_count에 value(*과일개수*)를 더해나간다.\n",
    "        fruit_count += basket_items[key]\n",
    "    \n",
    "    # 그게 아니라면\n",
    "    else:\n",
    "        # key -> value를 비과일 개수를 더해나간다.\n",
    "        # non_fruit_count를 value(*비과일개수*)를 더해나간다.\n",
    "        non_fruit_count += basket_items[key]\n",
    "print(non_fruit_count, fruit_count) "
   ]
  },
  {
   "cell_type": "code",
   "execution_count": 14,
   "metadata": {},
   "outputs": [
    {
     "name": "stdout",
     "output_type": "stream",
     "text": [
      "11\n"
     ]
    }
   ],
   "source": [
    "# 과일 개수 저장할 변수 / 비과일 개수 저장할 변수가 따로 필요\n",
    "fruit_count = 0\n",
    "non_fruit_count = 0\n",
    "\n",
    "# basket_itmes 안에 key-value 들을 돌면서\n",
    "for key, value in basket_items.items():\n",
    "    # 만약 key가 fruits 중에 하나라면,\n",
    "    if key in fruits:\n",
    "        # fruit_count에 value(*과일개수*)를 더해나간다.\n",
    "        fruit_count += value\n",
    "    \n",
    "    # 그게 아니라면\n",
    "    else:\n",
    "        # key -> value를 비과일 개수를 더해나간다.\n",
    "        # non_fruit_count를 value(*비과일개수*)를 더해나간다.\n",
    "        non_fruit_count += value\n",
    "print(non_fruit_count)"
   ]
  },
  {
   "cell_type": "markdown",
   "metadata": {},
   "source": [
    "## 영어 이름 출력하기 \n",
    "\n",
    "> 영어 이름은 가운데 이름을 가지고 있는 경우가 있습니다.\n",
    ">\n",
    "> 가운데 이름은 대문자로 축약해서 나타내는 코드를 작성하세요.\n",
    "\n",
    "---\n",
    "**[입력 예시]**\n",
    "\n",
    "Alice Betty Catherine Davis\n",
    "\n",
    "**[출력 예시]**\n",
    "\n",
    "Alice B. C. Davis"
   ]
  },
  {
   "cell_type": "code",
   "execution_count": 16,
   "metadata": {},
   "outputs": [],
   "source": [
    "name = 'Alice Betty Catherine Davis'\n",
    "names = name.split()\n",
    "\n",
    "# 아래에 코드를 작성하세요."
   ]
  },
  {
   "cell_type": "code",
   "execution_count": 46,
   "metadata": {},
   "outputs": [
    {
     "name": "stdout",
     "output_type": "stream",
     "text": [
      "4\n"
     ]
    }
   ],
   "source": [
    "print(len(names))"
   ]
  },
  {
   "cell_type": "code",
   "execution_count": 44,
   "metadata": {},
   "outputs": [
    {
     "name": "stdout",
     "output_type": "stream",
     "text": [
      "Alice B. C. Davis \n"
     ]
    }
   ],
   "source": [
    "new_name = ''\n",
    "\n",
    "# names 에서 각 요소를 순회하며\n",
    "for idx, name in enumerate(names) :\n",
    "    \n",
    "    # idx가 0과 마지막일 때는 그대로\n",
    "    if idx == 0 or idx == len(names)-1 :\n",
    "        new_name += f'{name} '\n",
    "    # 그게 아니면 앞글자. 만 더한다\n",
    "    else:\n",
    "        new_name += f'{name[0]}. '\n",
    "\n",
    "print(new_name)"
   ]
  }
 ],
 "metadata": {
  "kernelspec": {
   "display_name": "Python 3 (ipykernel)",
   "language": "python",
   "name": "python3"
  },
  "language_info": {
   "codemirror_mode": {
    "name": "ipython",
    "version": 3
   },
   "file_extension": ".py",
   "mimetype": "text/x-python",
   "name": "python",
   "nbconvert_exporter": "python",
   "pygments_lexer": "ipython3",
   "version": "3.10.9"
  },
  "toc": {
   "base_numbering": 1,
   "nav_menu": {},
   "number_sections": true,
   "sideBar": true,
   "skip_h1_title": false,
   "title_cell": "Table of Contents",
   "title_sidebar": "Contents",
   "toc_cell": false,
   "toc_position": {},
   "toc_section_display": true,
   "toc_window_display": false
  }
 },
 "nbformat": 4,
 "nbformat_minor": 2
}
