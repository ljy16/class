{
 "cells": [
  {
   "cell_type": "code",
   "execution_count": 12,
   "id": "de803beb",
   "metadata": {},
   "outputs": [
    {
     "data": {
      "text/plain": [
       "([1 | 0x0], [2 | 0x0], [3 | 0x0])"
      ]
     },
     "execution_count": 12,
     "metadata": {},
     "output_type": "execute_result"
    }
   ],
   "source": [
    "# Node\n",
    "\n",
    "class Node:\n",
    "    def __init__(self, value, next_id = 0):\n",
    "        self.value = value\n",
    "        self.next_id = next_id\n",
    "        \n",
    "    def __repr__(self):\n",
    "        return f'[{self.value} | {hex(self.next_id)}]'\n",
    "    \n",
    "n1 = Node(1)\n",
    "n2 = Node(2)\n",
    "n3 = Node(3)\n",
    "\n",
    "n1, n2, n3"
   ]
  },
  {
   "cell_type": "code",
   "execution_count": 14,
   "id": "24a1f2e9",
   "metadata": {},
   "outputs": [
    {
     "ename": "IndexError",
     "evalue": "tuple index out of range",
     "output_type": "error",
     "traceback": [
      "\u001b[1;31m---------------------------------------------------------------------------\u001b[0m",
      "\u001b[1;31mIndexError\u001b[0m                                Traceback (most recent call last)",
      "Cell \u001b[1;32mIn[14], line 10\u001b[0m\n\u001b[0;32m      6\u001b[0m             nodes[idx]\u001b[38;5;241m.\u001b[39mnext_id \u001b[38;5;241m=\u001b[39m \u001b[38;5;28mid\u001b[39m(nodes[idx\u001b[38;5;241m+\u001b[39m\u001b[38;5;241m1\u001b[39m])\n\u001b[0;32m      8\u001b[0m         \u001b[38;5;28mself\u001b[39m\u001b[38;5;241m.\u001b[39mfirst \u001b[38;5;241m=\u001b[39m nodes[\u001b[38;5;241m0\u001b[39m]\n\u001b[1;32m---> 10\u001b[0m l1 \u001b[38;5;241m=\u001b[39m \u001b[43mLinkedList\u001b[49m\u001b[43m(\u001b[49m\u001b[43mn1\u001b[49m\u001b[43m,\u001b[49m\u001b[43m \u001b[49m\u001b[43mn2\u001b[49m\u001b[43m,\u001b[49m\u001b[43m \u001b[49m\u001b[43mn3\u001b[49m\u001b[43m)\u001b[49m\n\u001b[0;32m     11\u001b[0m l1\u001b[38;5;241m.\u001b[39mfirst\n\u001b[0;32m     13\u001b[0m n1, n2, n3\n",
      "Cell \u001b[1;32mIn[14], line 6\u001b[0m, in \u001b[0;36mLinkedList.__init__\u001b[1;34m(self, *nodes)\u001b[0m\n\u001b[0;32m      4\u001b[0m \u001b[38;5;28;01mdef\u001b[39;00m \u001b[38;5;21m__init__\u001b[39m(\u001b[38;5;28mself\u001b[39m, \u001b[38;5;241m*\u001b[39mnodes):\n\u001b[0;32m      5\u001b[0m     \u001b[38;5;28;01mfor\u001b[39;00m idx \u001b[38;5;129;01min\u001b[39;00m \u001b[38;5;28mrange\u001b[39m(\u001b[38;5;28mlen\u001b[39m(nodes)): \u001b[38;5;66;03m#len(nodes) = 3 이고 range(2)는 n-1이니까 0,1까지밖에?\u001b[39;00m\n\u001b[1;32m----> 6\u001b[0m         nodes[idx]\u001b[38;5;241m.\u001b[39mnext_id \u001b[38;5;241m=\u001b[39m \u001b[38;5;28mid\u001b[39m(\u001b[43mnodes\u001b[49m\u001b[43m[\u001b[49m\u001b[43midx\u001b[49m\u001b[38;5;241;43m+\u001b[39;49m\u001b[38;5;241;43m1\u001b[39;49m\u001b[43m]\u001b[49m)\n\u001b[0;32m      8\u001b[0m     \u001b[38;5;28mself\u001b[39m\u001b[38;5;241m.\u001b[39mfirst \u001b[38;5;241m=\u001b[39m nodes[\u001b[38;5;241m0\u001b[39m]\n",
      "\u001b[1;31mIndexError\u001b[0m: tuple index out of range"
     ]
    }
   ],
   "source": [
    "# Linked List\n",
    "\n",
    "class LinkedList:\n",
    "    def __init__(self, *nodes):\n",
    "        for idx in range(len(nodes)-1): #len(nodes) = 3 이고 range(2)는 n-1이니까 0,1까지밖에?\n",
    "            nodes[idx].next_id = id(nodes[idx+1])\n",
    "            \n",
    "        self.first = nodes[0]\n",
    "    \n",
    "l1 = LinkedList(n1, n2, n3)\n",
    "l1.first\n",
    "\n",
    "n1, n2, n3"
   ]
  },
  {
   "cell_type": "code",
   "execution_count": 9,
   "id": "c0c26e50",
   "metadata": {},
   "outputs": [
    {
     "data": {
      "text/plain": [
       "True"
      ]
     },
     "execution_count": 9,
     "metadata": {},
     "output_type": "execute_result"
    }
   ],
   "source": [
    "n2.next_id == id(n3)"
   ]
  },
  {
   "cell_type": "code",
   "execution_count": null,
   "id": "81a04182",
   "metadata": {},
   "outputs": [],
   "source": []
  },
  {
   "cell_type": "code",
   "execution_count": null,
   "id": "a81e5a59",
   "metadata": {},
   "outputs": [],
   "source": []
  },
  {
   "cell_type": "code",
   "execution_count": null,
   "id": "baa9e1f9",
   "metadata": {},
   "outputs": [],
   "source": []
  },
  {
   "cell_type": "code",
   "execution_count": null,
   "id": "35d4ddb2",
   "metadata": {},
   "outputs": [],
   "source": []
  },
  {
   "cell_type": "code",
   "execution_count": null,
   "id": "2f278f13",
   "metadata": {},
   "outputs": [],
   "source": []
  }
 ],
 "metadata": {
  "kernelspec": {
   "display_name": "Python 3 (ipykernel)",
   "language": "python",
   "name": "python3"
  },
  "language_info": {
   "codemirror_mode": {
    "name": "ipython",
    "version": 3
   },
   "file_extension": ".py",
   "mimetype": "text/x-python",
   "name": "python",
   "nbconvert_exporter": "python",
   "pygments_lexer": "ipython3",
   "version": "3.10.9"
  }
 },
 "nbformat": 4,
 "nbformat_minor": 5
}
