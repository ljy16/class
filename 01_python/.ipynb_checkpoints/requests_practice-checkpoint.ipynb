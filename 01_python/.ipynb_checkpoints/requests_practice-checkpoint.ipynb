{
 "cells": [
  {
   "cell_type": "code",
   "execution_count": 16,
   "id": "78d23430",
   "metadata": {},
   "outputs": [
    {
     "data": {
      "text/plain": [
       "{'totSellamnt': 100923993000,\n",
       " 'returnValue': 'success',\n",
       " 'drwNoDate': '2022-12-17',\n",
       " 'firstWinamnt': 2011415719,\n",
       " 'drwtNo6': 36,\n",
       " 'drwtNo4': 29,\n",
       " 'firstPrzwnerCo': 12,\n",
       " 'drwtNo5': 35,\n",
       " 'bnusNo': 28,\n",
       " 'firstAccumamnt': 24136988628,\n",
       " 'drwNo': 1046,\n",
       " 'drwtNo2': 16,\n",
       " 'drwtNo3': 25,\n",
       " 'drwtNo1': 7}"
      ]
     },
     "execution_count": 16,
     "metadata": {},
     "output_type": "execute_result"
    }
   ],
   "source": [
    "# 1. 브라우저 주소창에\n",
    "# 1. 뭐가됐든, client(request 보낼 수 있는) 프로그램을 준비해서\n",
    "import requests\n",
    "\n",
    "url = 'https://www.dhlottery.co.kr/common.do?method=getLottoNumber&drwNo=1046'\n",
    "\n",
    "# 2. url을 통해 요청을 보낸다.(달라고 한다.)\n",
    "data = requests.get(url).json()\n",
    "\n",
    "data"
   ]
  },
  {
   "cell_type": "code",
   "execution_count": 17,
   "id": "b167d5dc",
   "metadata": {},
   "outputs": [],
   "source": [
    "import requests\n",
    "\n",
    "key = '68c36bcac7f38b09c933975c8ce9c200'\n",
    "url = 'htt'\n",
    "\n",
    "def popular_count():\n",
    "    data = \n",
    "\n",
    "\n",
    "if __name__ == '__main__':\n",
    "    \"\"\"\n",
    "    popular 영화목록의 개수 출력.\n",
    "    \"\"\"\n",
    "    print(popular_count())\n",
    "    # => 20\n"
   ]
  },
  {
   "cell_type": "code",
   "execution_count": 19,
   "id": "1f84aca4",
   "metadata": {},
   "outputs": [],
   "source": [
    "movies = [\n",
    "        {\n",
    "            'adult': False,\n",
    "            'backdrop_path': '/tQ91wWQJ2WRNDXwxuO7GCXX5VPC.jpg',\n",
    "            'genre_ids': [878, 28, 12],\n",
    "            'id': 76600,\n",
    "            'original_language': 'en',\n",
    "            'original_title': 'Avatar: The Way of Water',\n",
    "            'overview': 'Set more than a decade after the events of the first film, '     \n",
    "                        'learn the story of the Sully family (Jake, Neytiri, and their '  \n",
    "                        'kids), the trouble that follows them, the lengths they go to '   \n",
    "                        'keep each other safe, the battles they fight to stay alive, and '\n",
    "                        'the tragedies they endure.',\n",
    "            'popularity': 4334.092,\n",
    "            'poster_path': '/5ScPNT6fHtfYJeWBajZciPV3hEL.jpg',\n",
    "            'release_date': '2022-12-14',\n",
    "            'title': 'Avatar: The Way of Water',\n",
    "            'video': False,\n",
    "            'vote_average': 8.1,\n",
    "            'vote_count': 897\n",
    "        },\n",
    "        {\n",
    "            'adult': False,\n",
    "            'backdrop_path': '/vSvogVWimBiaKx9dVCzirh3u9qS.jpg',\n",
    "            'genre_ids': [16, 14, 18],\n",
    "            'id': 555604,\n",
    "            'original_language': 'en',\n",
    "            'original_title': \"Guillermo del Toro's Pinocchio\",\n",
    "            'overview': \"During the rise of fascism in Mussolini's Italy, a wooden boy \"   \n",
    "                        \"brought magically to life struggles to live up to his father's \"  \n",
    "                        'expectations.',\n",
    "            'popularity': 3041.505,\n",
    "            'poster_path': '/vx1u0uwxdlhV2MUzj4VlcMB0N6m.jpg',\n",
    "            'release_date': '2022-11-09',\n",
    "            'title': \"Guillermo del Toro's Pinocchio\",\n",
    "            'video': False,\n",
    "            'vote_average': 8.5,\n",
    "            'vote_count': 865\n",
    "        }\n",
    "    ]"
   ]
  },
  {
   "cell_type": "code",
   "execution_count": 25,
   "id": "c3deca18",
   "metadata": {},
   "outputs": [
    {
     "data": {
      "text/plain": [
       "[{'Avatar: The Way of Water': 8.1}, {\"Guillermo del Toro's Pinocchio\": 8.5}]"
      ]
     },
     "execution_count": 25,
     "metadata": {},
     "output_type": "execute_result"
    }
   ],
   "source": [
    "def change_data(d):\n",
    "    return {d[\"original_title\"]: d[\"vote_average\"]}\n",
    "    \n",
    "list(map(change_data, movies))"
   ]
  },
  {
   "cell_type": "code",
   "execution_count": null,
   "id": "ec97e107",
   "metadata": {},
   "outputs": [],
   "source": [
    "import requests\n",
    "from pprint import pprint\n",
    "\n",
    "key = 'f8b0c914ad6f92ba5fc4f3fdf839ae70'\n",
    "url = 'https://api.themoviedb.org/3/movie/popular?api_key=f8b0c914ad6f92ba5fc4f3fdf839ae70'\n",
    "\n",
    "\n",
    "def ranking():\n",
    "     # 1 . 다들고오기 ok\n",
    "    data = requests.get(url).json()\n",
    "    result = data['results']\n",
    "    \n",
    "    # 다 들고온 다음 -> 평점(리스트) ->  오름차순 조건(평점) 5개만->  \n",
    "    score_sort=[]\n",
    "    score_list=[]\n",
    "    for i in range(0, 19):\n",
    "        dic = result[i]\n",
    "        #print('dic', dic)\n",
    "        \n",
    "        score = dic['vote_average']\n",
    "        \n",
    "        score_list.append(score)\n",
    "        score_list.sort(reverse=True)\n",
    "        score_sort = score_list[:5]\n",
    "        \n",
    "        # 키값은 vote_average\n",
    "        # 밸류값은 8.5 \n",
    "    \n",
    "        \n",
    "    return score_sort\n",
    "    #2 평점 # 오름차순\n",
    "#     top_sort = []\n",
    "#     for i in range(0 , 19):\n",
    "#         t_s_list = result[i]\n",
    "\n",
    "#         top_sort.t_s_list['vote_average']\n",
    "\n",
    "#         a = t_s_list['vote_average']\n",
    "#         print(a)\n",
    "#     top_sort.append(t_s_list)\n",
    "#     return top_sort \n",
    "ranking()"
   ]
  },
  {
   "cell_type": "code",
   "execution_count": null,
   "id": "4193d938",
   "metadata": {},
   "outputs": [],
   "source": []
  },
  {
   "cell_type": "code",
   "execution_count": null,
   "id": "7c5dc336",
   "metadata": {},
   "outputs": [],
   "source": []
  },
  {
   "cell_type": "code",
   "execution_count": null,
   "id": "bad8d2dc",
   "metadata": {},
   "outputs": [],
   "source": []
  },
  {
   "cell_type": "code",
   "execution_count": null,
   "id": "845c15e9",
   "metadata": {},
   "outputs": [],
   "source": []
  },
  {
   "cell_type": "code",
   "execution_count": null,
   "id": "c474f736",
   "metadata": {},
   "outputs": [],
   "source": []
  },
  {
   "cell_type": "code",
   "execution_count": null,
   "id": "b2783698",
   "metadata": {},
   "outputs": [],
   "source": []
  },
  {
   "cell_type": "code",
   "execution_count": null,
   "id": "549e4868",
   "metadata": {},
   "outputs": [],
   "source": []
  },
  {
   "cell_type": "code",
   "execution_count": null,
   "id": "63f35426",
   "metadata": {},
   "outputs": [],
   "source": []
  },
  {
   "cell_type": "code",
   "execution_count": null,
   "id": "28014533",
   "metadata": {},
   "outputs": [],
   "source": []
  },
  {
   "cell_type": "code",
   "execution_count": null,
   "id": "aae41c05",
   "metadata": {},
   "outputs": [],
   "source": []
  },
  {
   "cell_type": "code",
   "execution_count": null,
   "id": "22a74d4d",
   "metadata": {},
   "outputs": [],
   "source": []
  },
  {
   "cell_type": "code",
   "execution_count": null,
   "id": "1b44f5a2",
   "metadata": {},
   "outputs": [],
   "source": []
  },
  {
   "cell_type": "code",
   "execution_count": null,
   "id": "ff089993",
   "metadata": {},
   "outputs": [],
   "source": []
  },
  {
   "cell_type": "code",
   "execution_count": null,
   "id": "d1a3bce2",
   "metadata": {},
   "outputs": [],
   "source": []
  },
  {
   "cell_type": "code",
   "execution_count": null,
   "id": "1e40f439",
   "metadata": {},
   "outputs": [],
   "source": []
  },
  {
   "cell_type": "code",
   "execution_count": null,
   "id": "ce13b28e",
   "metadata": {},
   "outputs": [],
   "source": []
  },
  {
   "cell_type": "code",
   "execution_count": null,
   "id": "33148f4c",
   "metadata": {},
   "outputs": [],
   "source": []
  },
  {
   "cell_type": "code",
   "execution_count": null,
   "id": "f57cdd0e",
   "metadata": {},
   "outputs": [],
   "source": []
  },
  {
   "cell_type": "code",
   "execution_count": null,
   "id": "5c0fb353",
   "metadata": {},
   "outputs": [],
   "source": []
  },
  {
   "cell_type": "code",
   "execution_count": null,
   "id": "03c22cda",
   "metadata": {},
   "outputs": [],
   "source": []
  },
  {
   "cell_type": "code",
   "execution_count": null,
   "id": "c95fb51b",
   "metadata": {},
   "outputs": [],
   "source": []
  },
  {
   "cell_type": "markdown",
   "id": "cc75a40a",
   "metadata": {},
   "source": [
    "### Problem C\n",
    "\n",
    "특정 조건에 맞는 인기 영화 조회 II 영화목록을 평점순으로 출력하는 함수를 완성합니다. \n",
    "\n",
    "1. `requests`를 이용하여 인기 영화 정보(Get Popular)에 요청을 보냅니다.\n",
    "2. 받아온 데이터 중 평점(key `vote_average`)이 높은 영화 다섯개의 정보를 리스트로 반환하는 함수 `ranking`을 완성합니다."
   ]
  },
  {
   "cell_type": "code",
   "execution_count": 16,
   "id": "49a633fa",
   "metadata": {},
   "outputs": [
    {
     "data": {
      "text/plain": [
       "[{'adult': False,\n",
       "  'backdrop_path': '/vSvogVWimBiaKx9dVCzirh3u9qS.jpg',\n",
       "  'genre_ids': [16, 14, 18],\n",
       "  'id': 555604,\n",
       "  'original_language': 'en',\n",
       "  'original_title': \"Guillermo del Toro's Pinocchio\",\n",
       "  'overview': \"During the rise of fascism in Mussolini's Italy, a wooden boy brought magically to life struggles to live up to his father's expectations.\",\n",
       "  'popularity': 2769.264,\n",
       "  'poster_path': '/vx1u0uwxdlhV2MUzj4VlcMB0N6m.jpg',\n",
       "  'release_date': '2022-11-09',\n",
       "  'title': \"Guillermo del Toro's Pinocchio\",\n",
       "  'video': False,\n",
       "  'vote_average': 8.5,\n",
       "  'vote_count': 909},\n",
       " {'adult': False,\n",
       "  'backdrop_path': '/tQ91wWQJ2WRNDXwxuO7GCXX5VPC.jpg',\n",
       "  'genre_ids': [878, 28, 12],\n",
       "  'id': 76600,\n",
       "  'original_language': 'en',\n",
       "  'original_title': 'Avatar: The Way of Water',\n",
       "  'overview': 'Set more than a decade after the events of the first film, learn the story of the Sully family (Jake, Neytiri, and their kids), the trouble that follows them, the lengths they go to keep each other safe, the battles they fight to stay alive, and the tragedies they endure.',\n",
       "  'popularity': 4109.455,\n",
       "  'poster_path': '/94xxm5701CzOdJdUEdIuwqZaowx.jpg',\n",
       "  'release_date': '2022-12-14',\n",
       "  'title': 'Avatar: The Way of Water',\n",
       "  'video': False,\n",
       "  'vote_average': 8.1,\n",
       "  'vote_count': 1001},\n",
       " {'adult': False,\n",
       "  'backdrop_path': '/7zQJYV02yehWrQN6NjKsBorqUUS.jpg',\n",
       "  'genre_ids': [28, 18, 36],\n",
       "  'id': 724495,\n",
       "  'original_language': 'en',\n",
       "  'original_title': 'The Woman King',\n",
       "  'overview': 'The story of the Agojie, the all-female unit of warriors who protected the African Kingdom of Dahomey in the 1800s with skills and a fierceness unlike anything the world has ever seen, and General Nanisca as she trains the next generation of recruits and readies them for battle against an enemy determined to destroy their way of life.',\n",
       "  'popularity': 1975.04,\n",
       "  'poster_path': '/438QXt1E3WJWb3PqNniK0tAE5c1.jpg',\n",
       "  'release_date': '2022-09-15',\n",
       "  'title': 'The Woman King',\n",
       "  'video': False,\n",
       "  'vote_average': 7.8,\n",
       "  'vote_count': 815},\n",
       " {'adult': False,\n",
       "  'backdrop_path': '/sfw4m2tOgQRzhF6VXxaXGfd1vX.jpg',\n",
       "  'genre_ids': [28, 12, 14, 878],\n",
       "  'id': 19995,\n",
       "  'original_language': 'en',\n",
       "  'original_title': 'Avatar',\n",
       "  'overview': 'In the 22nd century, a paraplegic Marine is dispatched to the moon Pandora on a unique mission, but becomes torn between following orders and protecting an alien civilization.',\n",
       "  'popularity': 2698.181,\n",
       "  'poster_path': '/jRXYjXNq0Cs2TcJjLkki24MLp7u.jpg',\n",
       "  'release_date': '2009-12-15',\n",
       "  'title': 'Avatar',\n",
       "  'video': False,\n",
       "  'vote_average': 7.5,\n",
       "  'vote_count': 27099},\n",
       " {'adult': False,\n",
       "  'backdrop_path': '/xDMIl84Qo5Tsu62c9DGWhmPI67A.jpg',\n",
       "  'genre_ids': [28, 12, 878],\n",
       "  'id': 505642,\n",
       "  'original_language': 'en',\n",
       "  'original_title': 'Black Panther: Wakanda Forever',\n",
       "  'overview': 'Queen Ramonda, Shuri, M’Baku, Okoye and the Dora Milaje fight to protect their nation from intervening world powers in the wake of King T’Challa’s death. As the Wakandans strive to embrace their next chapter, the heroes must band together with the help of War Dog Nakia and Everett Ross and forge a new path for the kingdom of Wakanda.',\n",
       "  'popularity': 1313.151,\n",
       "  'poster_path': '/sv1xJUazXeYqALzczSZ3O6nkH75.jpg',\n",
       "  'release_date': '2022-11-09',\n",
       "  'title': 'Black Panther: Wakanda Forever',\n",
       "  'video': False,\n",
       "  'vote_average': 7.5,\n",
       "  'vote_count': 1415}]"
      ]
     },
     "execution_count": 16,
     "metadata": {},
     "output_type": "execute_result"
    }
   ],
   "source": [
    "\n",
    "\n",
    "import requests\n",
    "from pprint import pprint\n",
    "\n",
    "key = 'f8b0c914ad6f92ba5fc4f3fdf839ae70'\n",
    "url = 'https://api.themoviedb.org/3/movie/popular?api_key=f8b0c914ad6f92ba5fc4f3fdf839ae70'\n",
    "\n",
    "class List:\n",
    "    def append(self):\n",
    "        # 추가하라.......\n",
    "        return a + b\n",
    "    def remove(self):\n",
    "        # 삭제하라\n",
    "        return a + b\n",
    "\n",
    "\n",
    "\n",
    "\n",
    "def ranking():\n",
    "    data = requests.get(url).json()\n",
    "    result = data['results']\n",
    "    \n",
    "    # 1. 다 들고옴 \n",
    "    \n",
    "    # 2. results의 밸류 덩어리로 가져온다.\n",
    "#     for i in range(0,19):\n",
    "#         va = result[i]['vote_average']\n",
    "    title_star_list = sorted(result, key = (lambda x:x['vote_average']), reverse = True)\n",
    "    \n",
    "    # 3. 정렬이 되어 있는 상태에서 처음 5개만 필요\n",
    "    empty_list = []\n",
    "    for n in title_star_list[0:5]:\n",
    "        empty_list.append(n)\n",
    "    \n",
    "    return empty_list\n",
    "\n",
    "[객체].func(x)\n",
    "\n",
    "ranking()\n",
    "    \n",
    "\n",
    "\n",
    "\n"
   ]
  },
  {
   "cell_type": "code",
   "execution_count": null,
   "id": "c32d807b",
   "metadata": {},
   "outputs": [],
   "source": []
  },
  {
   "cell_type": "code",
   "execution_count": null,
   "id": "277ef6f9",
   "metadata": {},
   "outputs": [],
   "source": []
  },
  {
   "cell_type": "code",
   "execution_count": null,
   "id": "fdb7ce50",
   "metadata": {},
   "outputs": [],
   "source": []
  }
 ],
 "metadata": {
  "kernelspec": {
   "display_name": "Python 3 (ipykernel)",
   "language": "python",
   "name": "python3"
  },
  "language_info": {
   "codemirror_mode": {
    "name": "ipython",
    "version": 3
   },
   "file_extension": ".py",
   "mimetype": "text/x-python",
   "name": "python",
   "nbconvert_exporter": "python",
   "pygments_lexer": "ipython3",
   "version": "3.10.9"
  }
 },
 "nbformat": 4,
 "nbformat_minor": 5
}
