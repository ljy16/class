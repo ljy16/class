{
 "cells": [
  {
   "cell_type": "markdown",
   "metadata": {},
   "source": [
    "## 구구단 출력하기\n",
    "> 2단부터 9단까지 반복문을 사용하여 구구단을 출력하세요.\n",
    "---\n",
    "**[출력 예시]**\n",
    "```\n",
    "------- [2 단] -------\n",
    "2 X 1 = 2\n",
    "2 X 2 = 4\n",
    "2 X 3 = 6\n",
    "2 X 4 = 8\n",
    "2 X 5 = 10\n",
    "2 X 6 = 12\n",
    "2 X 7 = 14\n",
    "2 X 8 = 16\n",
    "2 X 9 = 18\n",
    "\n",
    "------- [3 단] -------\n",
    "...\n",
    "```"
   ]
  },
  {
   "cell_type": "code",
   "execution_count": null,
   "metadata": {},
   "outputs": [],
   "source": [
    "# 아래에 코드를 작성하세요."
   ]
  },
  {
   "cell_type": "code",
   "execution_count": 15,
   "metadata": {},
   "outputs": [
    {
     "name": "stdout",
     "output_type": "stream",
     "text": [
      "-----------------[2단]---------------\n",
      "2 X 1 = 2\n",
      "2 X 2 = 4\n",
      "2 X 3 = 6\n",
      "2 X 4 = 8\n",
      "2 X 5 = 10\n",
      "2 X 6 = 12\n",
      "2 X 7 = 14\n",
      "2 X 8 = 16\n",
      "2 X 9 = 18\n",
      "\n",
      "-----------------[3단]---------------\n",
      "3 X 1 = 3\n",
      "3 X 2 = 6\n",
      "3 X 3 = 9\n",
      "3 X 4 = 12\n",
      "3 X 5 = 15\n",
      "3 X 6 = 18\n",
      "3 X 7 = 21\n",
      "3 X 8 = 24\n",
      "3 X 9 = 27\n",
      "\n",
      "-----------------[4단]---------------\n",
      "4 X 1 = 4\n",
      "4 X 2 = 8\n",
      "4 X 3 = 12\n",
      "4 X 4 = 16\n",
      "4 X 5 = 20\n",
      "4 X 6 = 24\n",
      "4 X 7 = 28\n",
      "4 X 8 = 32\n",
      "4 X 9 = 36\n",
      "\n",
      "-----------------[5단]---------------\n",
      "5 X 1 = 5\n",
      "5 X 2 = 10\n",
      "5 X 3 = 15\n",
      "5 X 4 = 20\n",
      "5 X 5 = 25\n",
      "5 X 6 = 30\n",
      "5 X 7 = 35\n",
      "5 X 8 = 40\n",
      "5 X 9 = 45\n",
      "\n",
      "-----------------[6단]---------------\n",
      "6 X 1 = 6\n",
      "6 X 2 = 12\n",
      "6 X 3 = 18\n",
      "6 X 4 = 24\n",
      "6 X 5 = 30\n",
      "6 X 6 = 36\n",
      "6 X 7 = 42\n",
      "6 X 8 = 48\n",
      "6 X 9 = 54\n",
      "\n",
      "-----------------[7단]---------------\n",
      "7 X 1 = 7\n",
      "7 X 2 = 14\n",
      "7 X 3 = 21\n",
      "7 X 4 = 28\n",
      "7 X 5 = 35\n",
      "7 X 6 = 42\n",
      "7 X 7 = 49\n",
      "7 X 8 = 56\n",
      "7 X 9 = 63\n",
      "\n",
      "-----------------[8단]---------------\n",
      "8 X 1 = 8\n",
      "8 X 2 = 16\n",
      "8 X 3 = 24\n",
      "8 X 4 = 32\n",
      "8 X 5 = 40\n",
      "8 X 6 = 48\n",
      "8 X 7 = 56\n",
      "8 X 8 = 64\n",
      "8 X 9 = 72\n",
      "\n",
      "-----------------[9단]---------------\n",
      "9 X 1 = 9\n",
      "9 X 2 = 18\n",
      "9 X 3 = 27\n",
      "9 X 4 = 36\n",
      "9 X 5 = 45\n",
      "9 X 6 = 54\n",
      "9 X 7 = 63\n",
      "9 X 8 = 72\n",
      "9 X 9 = 81\n",
      "\n"
     ]
    }
   ],
   "source": [
    "for dan in range(2, 10):\n",
    "    print(f'-----------------[{dan}단]---------------')\n",
    "    \n",
    "    for num in range(1, 10):\n",
    "        print(f'{dan} X {num} = {dan * num}' )\n",
    "    print()\n",
    "    \n",
    "# else -> for문에 break가 있을 경우에만 의미가 있음."
   ]
  },
  {
   "cell_type": "markdown",
   "metadata": {},
   "source": [
    "## 개인정보보호\n",
    "> 사용자의 핸드폰번호를 입력 받고, 개인정보 보호를 위하여 뒷자리 4자리를 제외하고는 마스킹 처리하세요.\n",
    "> * 핸드폰번호는 010으로 시작해야하고 11자리여야한다.\n",
    "> * 핸드폰번호를 입력하지 않았다면 \"핸드폰번호를 입력하세요\"를 출력한다.\n",
    "\n",
    "---\n",
    "\n",
    "**[입력 예시]**\n",
    "\n",
    "01012341234\n",
    "\n",
    "**[출력 예시]**\n",
    "\n",
    "*******1234"
   ]
  },
  {
   "cell_type": "code",
   "execution_count": null,
   "metadata": {},
   "outputs": [],
   "source": [
    "# 아래에 코드를 작성하세요."
   ]
  },
  {
   "cell_type": "code",
   "execution_count": 4,
   "metadata": {},
   "outputs": [
    {
     "data": {
      "text/plain": [
       "'****1721'"
      ]
     },
     "execution_count": 4,
     "metadata": {},
     "output_type": "execute_result"
    }
   ],
   "source": [
    "# phone_number = input('핸드폰 번호를 입력하세요. : ')\n",
    "\n",
    "# phone_number = '01012345678'\n",
    "\n",
    "def masking(phone_number):\n",
    "    return f'****{phone_number[-4:]}'\n",
    "\n",
    "masking('01082771721')"
   ]
  },
  {
   "cell_type": "markdown",
   "metadata": {},
   "source": [
    "## 정중앙\n",
    "> 사용자가 입력한 문자열중 가운데 글자를 출력하세요. \n",
    "> * 단, 문자열이 짝수라면 가운데 두글자를 출력하세요.\n",
    "\n",
    "---\n",
    "\n",
    "**[입력 예시]**\n",
    "\n",
    "abc\n",
    "\n",
    "**[출력 예시]**\n",
    "\n",
    "b"
   ]
  },
  {
   "cell_type": "code",
   "execution_count": 1,
   "metadata": {},
   "outputs": [],
   "source": [
    "# 아래에 코드를 작성하세요."
   ]
  },
  {
   "cell_type": "code",
   "execution_count": 35,
   "metadata": {},
   "outputs": [
    {
     "data": {
      "text/plain": [
       "'45'"
      ]
     },
     "execution_count": 35,
     "metadata": {},
     "output_type": "execute_result"
    }
   ],
   "source": [
    "chars = '0123456789'\n",
    "\n",
    "# len 홀수\n",
    "idx = len(chars) // 2 # 2\n",
    "chars[idx]\n",
    "# len 짝수\n",
    "idx = len(chars) // 2 # 2\n",
    "chars[idx-1 : idx+1]"
   ]
  },
  {
   "cell_type": "code",
   "execution_count": 37,
   "metadata": {},
   "outputs": [
    {
     "name": "stdout",
     "output_type": "stream",
     "text": [
      "문자열 입력하세요 : 안녕하세요\n",
      "하\n"
     ]
    }
   ],
   "source": [
    "chars = input('문자열 입력하세요 : ')\n",
    "\n",
    "#  chars의 길이를 2로 나누면 몫이 홀수 아니면 짝수가 나옴 \n",
    "# 그럼 idx는 몫이 짝수인지 홀수인지 구분해야 하고\n",
    "idx = len(chars) // 2\n",
    "\n",
    "# chars의 나머지가 홀수면 \n",
    "if len(chars) % 2 == 1: #(len(chars) % 2 와 같음)\n",
    "    print(chars[idx])\n",
    "    \n",
    "# 짝수\n",
    "else:\n",
    "    print(chars[idx-1:idx+1])"
   ]
  },
  {
   "cell_type": "code",
   "execution_count": 22,
   "metadata": {},
   "outputs": [
    {
     "name": "stdout",
     "output_type": "stream",
     "text": [
      "문자열 입력하세요 : 배고프네요\n"
     ]
    },
    {
     "data": {
      "text/plain": [
       "'프'"
      ]
     },
     "execution_count": 22,
     "metadata": {},
     "output_type": "execute_result"
    }
   ],
   "source": [
    "string = input('문자열 입력하세요 : ')\n",
    "\n",
    "def pick_mid(chars):\n",
    "    idx = len(chars) // 2\n",
    "    \n",
    "    if len(chars) % 2:\n",
    "        return chars[idx]\n",
    "    else:\n",
    "        return chars[idx-1:idx+1]\n",
    "    \n",
    "pick_mid(string)"
   ]
  },
  {
   "cell_type": "markdown",
   "metadata": {},
   "source": [
    "## 소수 찾기\n",
    "\n",
    "> 조건, 반복문을 응용하여 numbers 리스트의 요소들이 소수인지 아닌지 판단하는 코드를 작성하세요.\n",
    "\n",
    "---\n",
    "\n",
    "\n",
    "**[입력 예시]**\n",
    "\n",
    "26, 39, 51, 53, 57, 79, 85\n",
    "\n",
    "**[출력 예시]**\n",
    "```python\n",
    "26 는 소수가 아닙니다. 2 는 26 의 인수입니다.\n",
    "39 는 소수가 아닙니다. 3 는 39 의 인수입니다.\n",
    "51 는 소수가 아닙니다. 3 는 51 의 인수입니다.\n",
    "53 는 소수입니다.\n",
    "57 는 소수가 아닙니다. 3 는 57 의 인수입니다.\n",
    "79 는 소수입니다.\n",
    "85 는 소수가 아닙니다. 5 는 85 의 인수입니다.\n",
    "```"
   ]
  },
  {
   "cell_type": "code",
   "execution_count": 27,
   "metadata": {},
   "outputs": [],
   "source": [
    "numbers = [26, 39, 51, 53, 57, 79, 85]\n",
    "\n",
    "# 아래에 코드를 작성하세요."
   ]
  },
  {
   "cell_type": "code",
   "execution_count": 28,
   "metadata": {
    "scrolled": true
   },
   "outputs": [
    {
     "name": "stdout",
     "output_type": "stream",
     "text": [
      "26 은 소수가 아닙니다. 2 는 26 의 인수입니다.\n",
      "39 은 소수가 아닙니다. 3 는 39 의 인수입니다.\n",
      "51 은 소수가 아닙니다. 3 는 51 의 인수입니다.\n",
      "53은 소수입니다.\n",
      "57 은 소수가 아닙니다. 3 는 57 의 인수입니다.\n",
      "79은 소수입니다.\n",
      "85 은 소수가 아닙니다. 5 는 85 의 인수입니다.\n"
     ]
    }
   ],
   "source": [
    "for n in numbers : \n",
    "\n",
    "    # 1과 n으로만 나누어 떨어지는 숫자\n",
    "    # n을 2부터 n-1로 다 나누어 봤을 때, 하나도 나머지가 0인게 없다.\n",
    "\n",
    "    for x in range(2, n) : \n",
    "        if n % x == 0:\n",
    "            print(f'{n} 은 소수가 아닙니다. {x} 는 {n} 의 인수입니다.')\n",
    "            break\n",
    "\n",
    "    # 한번도 나누어떨어지지 않았다면 \n",
    "    else :\n",
    "        print(f'{n}은 소수입니다.')"
   ]
  },
  {
   "cell_type": "code",
   "execution_count": null,
   "metadata": {},
   "outputs": [],
   "source": [
    "n = 14009\n",
    "\n",
    "# n을 2부터 n-1로\n",
    "for x in range(2, n) : \n",
    "    if n % x == 0:\n",
    "        print(f'{n} 은 소수가 아닙니다. {x} 는 {n} 의 인수입니다.')\n",
    "        break\n",
    "\n",
    "# 한번도 나누어떨어지지 않았다면 \n",
    "else :\n",
    "    print(f'{n}은 소수입니다.')"
   ]
  },
  {
   "cell_type": "code",
   "execution_count": null,
   "metadata": {},
   "outputs": [],
   "source": [
    "# 로또 찾기\n",
    "\n",
    "mine = [2, 3, 4, 5, 6, 8]\n",
    "real = [2, 3, 4, 5, 6, 7]\n",
    "bonus = 8"
   ]
  },
  {
   "cell_type": "code",
   "execution_count": 58,
   "metadata": {},
   "outputs": [
    {
     "name": "stdout",
     "output_type": "stream",
     "text": [
      "2\n"
     ]
    }
   ],
   "source": [
    "match_count = len(set(mine) & set(real))\n",
    "\n",
    "if match_count == 6:\n",
    "    print(1)\n",
    "elif match_count == 5 and bonus in mine:\n",
    "    print(2)\n",
    "elif match_count == 5:\n",
    "    print(3)\n",
    "elif match_count == 4:\n",
    "    print(4)\n",
    "elif match_count == 3:\n",
    "    print(5)\n",
    "else:\n",
    "    print('탈락')"
   ]
  },
  {
   "cell_type": "code",
   "execution_count": 59,
   "metadata": {},
   "outputs": [
    {
     "name": "stdout",
     "output_type": "stream",
     "text": [
      "2\n"
     ]
    }
   ],
   "source": [
    "match_count = len(set(mine) & set(real))\n",
    "\n",
    "\n",
    "match_count = 0\n",
    "\n",
    "for num1 in mine:\n",
    "    for num2 in real:\n",
    "        if num1 == num2:\n",
    "            match_count += 1\n",
    "\n",
    "if match_count == 6:\n",
    "    print(1)\n",
    "elif match_count == 5 and bonus in mine:\n",
    "    print(2)\n",
    "elif match_count == 5:\n",
    "    print(3)\n",
    "elif match_count == 4:\n",
    "    print(4)\n",
    "elif match_count == 3:\n",
    "    print(5)\n",
    "else:\n",
    "    print('탈락')"
   ]
  },
  {
   "cell_type": "code",
   "execution_count": 2,
   "metadata": {},
   "outputs": [
    {
     "ename": "SyntaxError",
     "evalue": "invalid syntax (3430368386.py, line 24)",
     "output_type": "error",
     "traceback": [
      "\u001b[1;36m  Cell \u001b[1;32mIn[2], line 24\u001b[1;36m\u001b[0m\n\u001b[1;33m    While True:\u001b[0m\n\u001b[1;37m          ^\u001b[0m\n\u001b[1;31mSyntaxError\u001b[0m\u001b[1;31m:\u001b[0m invalid syntax\n"
     ]
    }
   ],
   "source": [
    "import random\n",
    "\n",
    "def check_lotto(mine, real, bonus):\n",
    "    \n",
    "    match_count = len(set(mine) & set(real))\n",
    "    \n",
    "    if match_count == 6:\n",
    "        return 1\n",
    "    elif match_count == 5 and bonus in mine:\n",
    "        return 2\n",
    "    elif match_count == 5:\n",
    "        return 3\n",
    "    elif match_count == 4:\n",
    "        return 4\n",
    "    elif match_count == 3:\n",
    "        return 5\n",
    "    else:\n",
    "        return '탈락'\n",
    "    \n",
    "this_week = [7, 16, 25, 29, 35, 36]\n",
    "bonus = 28\n",
    "# mine = random.sample(range(1,46), 6)\n",
    "    \n",
    "While True:\n",
    "    count = 0\n",
    "    if check_lotto(\n",
    "        random.sample(range(1,46), 6), this_week, bonus) == 1:\n",
    "        print('1등')\n",
    "        break\n",
    "\n",
    "    \n",
    "    \n",
    "    \n",
    "    \n",
    "    "
   ]
  }
 ],
 "metadata": {
  "kernelspec": {
   "display_name": "Python 3 (ipykernel)",
   "language": "python",
   "name": "python3"
  },
  "language_info": {
   "codemirror_mode": {
    "name": "ipython",
    "version": 3
   },
   "file_extension": ".py",
   "mimetype": "text/x-python",
   "name": "python",
   "nbconvert_exporter": "python",
   "pygments_lexer": "ipython3",
   "version": "3.10.9"
  },
  "latex_envs": {
   "LaTeX_envs_menu_present": true,
   "autoclose": false,
   "autocomplete": true,
   "bibliofile": "biblio.bib",
   "cite_by": "apalike",
   "current_citInitial": 1,
   "eqLabelWithNumbers": true,
   "eqNumInitial": 1,
   "hotkeys": {
    "equation": "Ctrl-E",
    "itemize": "Ctrl-I"
   },
   "labels_anchors": false,
   "latex_user_defs": false,
   "report_style_numbering": false,
   "user_envs_cfg": false
  },
  "toc": {
   "base_numbering": 1,
   "nav_menu": {},
   "number_sections": true,
   "sideBar": true,
   "skip_h1_title": false,
   "title_cell": "Table of Contents",
   "title_sidebar": "Contents",
   "toc_cell": false,
   "toc_position": {},
   "toc_section_display": true,
   "toc_window_display": false
  },
  "vscode": {
   "interpreter": {
    "hash": "51d354aa4721e008858a28cad10f7efbfd288bcf50ac31411bfc117a31ae17c9"
   }
  }
 },
 "nbformat": 4,
 "nbformat_minor": 2
}
